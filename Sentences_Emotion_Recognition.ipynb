{
  "nbformat": 4,
  "nbformat_minor": 0,
  "metadata": {
    "colab": {
      "name": "Sentences_Emotion_Recognition.ipynb",
      "provenance": [],
      "collapsed_sections": [],
      "authorship_tag": "ABX9TyOw13xG9L+gjVJUyTgIbnja",
      "include_colab_link": true
    },
    "kernelspec": {
      "name": "python3",
      "display_name": "Python 3"
    },
    "language_info": {
      "name": "python"
    }
  },
  "cells": [
    {
      "cell_type": "markdown",
      "metadata": {
        "id": "view-in-github",
        "colab_type": "text"
      },
      "source": [
        "<a href=\"https://colab.research.google.com/github/Wassefy/Sentences_Emotion_Recognition/blob/main/Sentences_Emotion_Recognition.ipynb\" target=\"_parent\"><img src=\"https://colab.research.google.com/assets/colab-badge.svg\" alt=\"Open In Colab\"/></a>"
      ]
    },
    {
      "cell_type": "code",
      "execution_count": 1,
      "metadata": {
        "colab": {
          "base_uri": "https://localhost:8080/"
        },
        "id": "7Cu1pEvhihpS",
        "outputId": "2d7f26a9-84ab-44b8-838e-bf5dfbf88921"
      },
      "outputs": [
        {
          "output_type": "stream",
          "name": "stdout",
          "text": [
            "Mounted at /content/gdrive\n"
          ]
        }
      ],
      "source": [
        "from google.colab import drive\n",
        "drive.mount('/content/gdrive')"
      ]
    },
    {
      "cell_type": "code",
      "source": [
        "pip install pyvi"
      ],
      "metadata": {
        "colab": {
          "base_uri": "https://localhost:8080/"
        },
        "id": "TdII-w28lySh",
        "outputId": "6b37b1a3-6aa3-4a2e-83d9-e6fd116d23c4"
      },
      "execution_count": 2,
      "outputs": [
        {
          "output_type": "stream",
          "name": "stdout",
          "text": [
            "Collecting pyvi\n",
            "  Downloading pyvi-0.1.1-py2.py3-none-any.whl (8.5 MB)\n",
            "\u001b[K     |████████████████████████████████| 8.5 MB 3.8 MB/s \n",
            "\u001b[?25hRequirement already satisfied: scikit-learn in /usr/local/lib/python3.7/dist-packages (from pyvi) (1.0.2)\n",
            "Collecting sklearn-crfsuite\n",
            "  Downloading sklearn_crfsuite-0.3.6-py2.py3-none-any.whl (12 kB)\n",
            "Requirement already satisfied: threadpoolctl>=2.0.0 in /usr/local/lib/python3.7/dist-packages (from scikit-learn->pyvi) (3.0.0)\n",
            "Requirement already satisfied: numpy>=1.14.6 in /usr/local/lib/python3.7/dist-packages (from scikit-learn->pyvi) (1.19.5)\n",
            "Requirement already satisfied: scipy>=1.1.0 in /usr/local/lib/python3.7/dist-packages (from scikit-learn->pyvi) (1.4.1)\n",
            "Requirement already satisfied: joblib>=0.11 in /usr/local/lib/python3.7/dist-packages (from scikit-learn->pyvi) (1.1.0)\n",
            "Requirement already satisfied: tabulate in /usr/local/lib/python3.7/dist-packages (from sklearn-crfsuite->pyvi) (0.8.9)\n",
            "Requirement already satisfied: six in /usr/local/lib/python3.7/dist-packages (from sklearn-crfsuite->pyvi) (1.15.0)\n",
            "Collecting python-crfsuite>=0.8.3\n",
            "  Downloading python_crfsuite-0.9.7-cp37-cp37m-manylinux1_x86_64.whl (743 kB)\n",
            "\u001b[K     |████████████████████████████████| 743 kB 62.4 MB/s \n",
            "\u001b[?25hRequirement already satisfied: tqdm>=2.0 in /usr/local/lib/python3.7/dist-packages (from sklearn-crfsuite->pyvi) (4.62.3)\n",
            "Installing collected packages: python-crfsuite, sklearn-crfsuite, pyvi\n",
            "Successfully installed python-crfsuite-0.9.7 pyvi-0.1.1 sklearn-crfsuite-0.3.6\n"
          ]
        }
      ]
    },
    {
      "cell_type": "code",
      "source": [
        "import os\n",
        "import re\n",
        "import codecs\n",
        "import string\n",
        "import numpy as np\n",
        "import pandas as pd\n",
        "import tensorflow as tf\n",
        "import tensorflow_hub as hub\n",
        "from pyvi import ViTokenizer\n",
        "from pyvi import ViUtils\n",
        "from __future__ import print_function\n",
        "from spacy.lang.vi import Vietnamese\n",
        "from sklearn.model_selection import train_test_split\n",
        "from sklearn.model_selection import cross_val_score"
      ],
      "metadata": {
        "id": "4eDpyqZvl1pm"
      },
      "execution_count": 3,
      "outputs": []
    },
    {
      "cell_type": "code",
      "source": [
        "VN_CHARS_LOWER = u'ạảãàáâậầấẩẫăắằặẳẵóòọõỏôộổỗồốơờớợởỡéèẻẹẽêếềệểễúùụủũưựữửừứíìịỉĩýỳỷỵỹđð'\n",
        "VN_CHARS_UPPER = u'ẠẢÃÀÁÂẬẦẤẨẪĂẮẰẶẲẴÓÒỌÕỎÔỘỔỖỒỐƠỜỚỢỞỠÉÈẺẸẼÊẾỀỆỂỄÚÙỤỦŨƯỰỮỬỪỨÍÌỊỈĨÝỲỶỴỸÐĐ'\n",
        "VN_CHARS = VN_CHARS_LOWER + VN_CHARS_UPPER"
      ],
      "metadata": {
        "id": "qx62tVqqmr8e"
      },
      "execution_count": 4,
      "outputs": []
    },
    {
      "cell_type": "code",
      "source": [
        "# Xóa dấu câu\n",
        "def no_marks(s):\n",
        "  __INTAB = [ch for ch in VN_CHARS]\n",
        "  __OUTAB =  \"a\"*17 + \"0\"*17 + \"e\"*11 + \"u\"*11 + \"i\"*5 +  \"y\"*5 + \"d\"*2\n",
        "  __OUTAB += \"A\"*17 + \"O\"*17 + \"E\"*11 + \"U\"*11 + \"I\"*5 +  \"Y\"*5 + \"D\"*2\n",
        "  __r = re.compile('|'.join(__INTAB))\n",
        "  __replaces_dict = dict(zip(__INTAB, __OUTAB))\n",
        "  result = __r.sub(lambda m: __replaces_dict[m.group(0)], s)\n",
        "  return result"
      ],
      "metadata": {
        "id": "bt-q2Sb5mxj1"
      },
      "execution_count": 5,
      "outputs": []
    },
    {
      "cell_type": "code",
      "source": [
        "spellcheck = open('/content/gdrive/MyDrive/NLP_TWP/data/spellcheck.txt','r')"
      ],
      "metadata": {
        "id": "NC6CiyWc1cMc"
      },
      "execution_count": 6,
      "outputs": []
    },
    {
      "cell_type": "code",
      "source": [
        "lines = spellcheck.readlines()"
      ],
      "metadata": {
        "id": "KQY07RWV1lv3"
      },
      "execution_count": 7,
      "outputs": []
    },
    {
      "cell_type": "code",
      "source": [
        "replace_list = {}\n",
        "for i in range(0,len(lines)):\n",
        "  ar = re.split(':',lines[i].replace('\\n',''))\n",
        "  ar[0] = ar[0]+' '\n",
        "  ar[1] = ar[1]+' '\n",
        "  replace_list[ar[0]] = ar[1]"
      ],
      "metadata": {
        "id": "S7xWeVjE7Fnw"
      },
      "execution_count": 8,
      "outputs": []
    },
    {
      "cell_type": "code",
      "source": [
        "def normalize_text(text):\n",
        "  # Xóa các ký tự kéo dài\n",
        "  text = re.sub(r'([A-Z])\\1+', lambda m: m.group(1).upper(), text, flags = re.IGNORECASE)\n",
        "  # Chuyển thành chữ thường\n",
        "  text = text.lower()\n",
        "  for k,v in replace_list.items():\n",
        "    text = text.replace(k, v)\n",
        "  # Chuyển dấu kết thúc câu thành ' '\n",
        "  translator = str.maketrans(string.punctuation, ' '*len(string.punctuation))\n",
        "  text = text.translate(translator)\n",
        "\n",
        "  # Tách các cụm từ có nghĩa\n",
        "  text = ViTokenizer.tokenize(text)\n",
        "  texts = text.split()\n",
        "  texts = [t.replace('_', ' ') for t in texts]\n",
        "  text = u' '.join(texts)\n",
        "  return text"
      ],
      "metadata": {
        "id": "FAPS2gTW8-OH"
      },
      "execution_count": 9,
      "outputs": []
    },
    {
      "cell_type": "code",
      "source": [
        "# Load and Preprocessing Data\n",
        "## Load Data\n",
        "train_path = \"/content/gdrive/MyDrive/NLP_TWP/data/train_nor_811.xlsx\"\n",
        "train_data = pd.read_excel(train_path, index_col=0)\n",
        "train_data = pd.DataFrame(train_data)\n",
        "\n",
        "test_path = \"/content/gdrive/MyDrive/NLP_TWP/data/test_nor_811.xlsx\"\n",
        "test_data = pd.read_excel(test_path, index_col=0)\n",
        "test_data = pd.DataFrame(test_data)\n",
        "\n",
        "valid_path = \"/content/gdrive/MyDrive/NLP_TWP/data/valid_nor_811.xlsx\"\n",
        "valid_data = pd.read_excel(valid_path, index_col=0)\n",
        "valid_data = pd.DataFrame(valid_data)"
      ],
      "metadata": {
        "id": "2Nht71t9BCnm"
      },
      "execution_count": 10,
      "outputs": []
    },
    {
      "cell_type": "code",
      "source": [
        "WOL_train_data = train_data[train_data.Emotion !='Other']\n",
        "WOL_test_data = test_data[test_data.Emotion !='Other']\n",
        "WOL_valid_data = valid_data[valid_data.Emotion !='Other']"
      ],
      "metadata": {
        "id": "_Ro2wNURIvse"
      },
      "execution_count": 15,
      "outputs": []
    },
    {
      "cell_type": "code",
      "source": [
        "train_data_sentences = train_data['Sentence']\n",
        "train_data_lablels= train_data['Emotion']\n",
        "\n",
        "test_data_sentences = test_data['Sentence']\n",
        "test_data_lablels= test_data['Emotion']\n",
        "\n",
        "valid_data_sentences = valid_data['Sentence']\n",
        "valid_data_lablels= valid_data['Emotion']"
      ],
      "metadata": {
        "id": "lSauOGJ0F4aH"
      },
      "execution_count": 12,
      "outputs": []
    },
    {
      "cell_type": "code",
      "source": [
        "WOL_train_data_sentences = WOL_train_data['Sentence']\n",
        "WOL_train_data_lablels= WOL_train_data['Emotion']\n",
        "\n",
        "WOL_test_data_sentences = WOL_test_data['Sentence']\n",
        "WOL_test_data_lablels= WOL_test_data['Emotion']\n",
        "\n",
        "WOL_valid_data_sentences = WOL_valid_data['Sentence']\n",
        "WOL_valid_data_lablels= WOL_valid_data['Emotion']"
      ],
      "metadata": {
        "id": "0hmm0TbDnri_"
      },
      "execution_count": 16,
      "outputs": []
    },
    {
      "cell_type": "code",
      "source": [
        "label_dict = {'Enjoyment': 0, 'Sadness': 1, 'Fear' : 2,'Anger': 3,\n",
        "              'Disgust': 4, 'Surprise': 5, 'Other': 6}\n",
        "label_dict_without = {'Enjoyment': 0, 'Sadness': 1, 'Fear' : 2,'Anger': 3,\n",
        "              'Disgust': 4, 'Surprise': 5}"
      ],
      "metadata": {
        "id": "RT1Z3OPzH7Gw"
      },
      "execution_count": 14,
      "outputs": []
    },
    {
      "cell_type": "code",
      "source": [
        "def transform_data(data_sentences):\n",
        "  data_sentences_processed = []\n",
        "  for s in (data_sentences):\n",
        "    s = normalize_text(str(s))\n",
        "    s_no_accent = str(ViUtils.remove_accents(str(s)).decode(\"utf-8\"))\n",
        "    data_sentences_processed.append(s)\n",
        "    data_sentences_processed.append(s_no_accent)\n",
        "  return data_sentences_processed\n",
        "\n",
        "def transform_lablels(data_lablels):\n",
        "  data_lablels_processed = []\n",
        "  for lbl in data_lablels:\n",
        "    data_lablels_processed.append(lbl)\n",
        "    data_lablels_processed.append(lbl)\n",
        "  return data_lablels_processed"
      ],
      "metadata": {
        "id": "DCJVOLPAn4te"
      },
      "execution_count": 86,
      "outputs": []
    },
    {
      "cell_type": "code",
      "source": [
        "def lablels_to_tensor(lablels):\n",
        "  data_lablels_idx = [label_dict[i] for i in lablels]\n",
        "  data_lablels_tf = tf.keras.utils.to_categorical(data_lablels_idx, num_classes=7, dtype='float32')\n",
        "  return data_lablels_tf"
      ],
      "metadata": {
        "id": "aHVNHTbjuPDQ"
      },
      "execution_count": 87,
      "outputs": []
    },
    {
      "cell_type": "code",
      "source": [
        "train_data_sentences_processed = transform_data(train_data_sentences)\n",
        "train_data_lablels_processed = transform_lablels(train_data_lablels)\n",
        "train_data_lablels_tf = lablels_to_tensor(train_data_lablels_processed)\n",
        "\n",
        "test_data_sentences_processed = transform_data(test_data_sentences)\n",
        "test_data_lablels_processed = transform_lablels(test_data_lablels)\n",
        "test_data_lablels_tf = lablels_to_tensor(test_data_lablels_processed)\n",
        "\n",
        "valid_data_sentences_processed = transform_data(valid_data_sentences)\n",
        "valid_data_lablels_processed = transform_lablels(valid_data_lablels)\n",
        "valid_data_lablels_tf = lablels_to_tensor(valid_data_lablels_processed)"
      ],
      "metadata": {
        "id": "reWblqfVtaUW"
      },
      "execution_count": 189,
      "outputs": []
    },
    {
      "cell_type": "code",
      "source": [
        "import matplotlib.pyplot as plt\n",
        "seq_len = [len(i.split()) for i in train_data_sentences_processed]\n",
        "pd.Series(seq_len).hist(bins=10)\n",
        "plt.show()"
      ],
      "metadata": {
        "colab": {
          "base_uri": "https://localhost:8080/",
          "height": 265
        },
        "id": "9r3xmFDgvgax",
        "outputId": "bfb4af81-4ac8-47e7-de3a-1902e28400a0"
      },
      "execution_count": 63,
      "outputs": [
        {
          "output_type": "display_data",
          "data": {
            "image/png": "[encoded data removed]",
            "text/plain": [
              "<Figure size 432x288 with 1 Axes>"
            ]
          },
          "metadata": {
            "needs_background": "light"
          }
        }
      ]
    },
    {
      "cell_type": "markdown",
      "source": [
        "# Data"
      ],
      "metadata": {
        "id": "JpeUoQy9X2Lb"
      }
    },
    {
      "cell_type": "code",
      "source": [
        "from gensim.models import Word2Vec\n",
        "from tensorflow.keras.preprocessing.text import Tokenizer\n",
        "from tensorflow.keras.preprocessing.sequence import pad_sequences"
      ],
      "metadata": {
        "id": "FeOg0F8_6VEr"
      },
      "execution_count": 65,
      "outputs": []
    },
    {
      "cell_type": "code",
      "source": [
        "# Xây dựng từ điển\n",
        "vocab_size = 10000\n",
        "embedding_dim = 32\n",
        "max_length = 20"
      ],
      "metadata": {
        "id": "ks4m6zqT6hfG"
      },
      "execution_count": 67,
      "outputs": []
    },
    {
      "cell_type": "code",
      "source": [
        "documents = train_data_sentences_processed + test_data_sentences_processed+valid_data_sentences_processed"
      ],
      "metadata": {
        "id": "HgOCwCYbXej3"
      },
      "execution_count": 196,
      "outputs": []
    },
    {
      "cell_type": "code",
      "source": [
        "tokenizer = Tokenizer(num_words=vocab_size, oov_token=\"<OOV>\")\n",
        "tokenizer.fit_on_texts(documents)"
      ],
      "metadata": {
        "id": "AfctbVbh6fDX"
      },
      "execution_count": 197,
      "outputs": []
    },
    {
      "cell_type": "code",
      "source": [
        "train_data_sequences =  tokenizer.texts_to_sequences(train_data_sentences_processed)\n",
        "test_data_sequences =  tokenizer.texts_to_sequences(test_data_sentences_processed)\n",
        "valid_data_sequences =  tokenizer.texts_to_sequences(valid_data_sentences_processed)"
      ],
      "metadata": {
        "id": "7rgCtz6yX5kI"
      },
      "execution_count": 198,
      "outputs": []
    },
    {
      "cell_type": "code",
      "source": [
        "padded_train_data_sequences = pad_sequences(train_data_sequences, maxlen=max_length, truncating='post', padding='post')\n",
        "padded_test_data_sequences = pad_sequences(test_data_sequences, maxlen=max_length, truncating='post', padding='post')\n",
        "padded_valid_data_sequences = pad_sequences(valid_data_sequences, maxlen=max_length, truncating='post', padding='post')\n"
      ],
      "metadata": {
        "id": "sx4-YBsWYJgf"
      },
      "execution_count": 200,
      "outputs": []
    },
    {
      "cell_type": "code",
      "source": [
        "from sklearn.metrics import confusion_matrix\n",
        "from sklearn.metrics import classification_report\n",
        "def print_cfn(model, X_test, y_test ):\n",
        "  test_pred_probs = model.predict(X_test)\n",
        "  test_preds = tf.argmax(test_pred_probs, axis=1)\n",
        "  test_labels = tf.argmax(y_test, axis = 1)\n",
        "  cfn_matrix = confusion_matrix(test_labels, test_preds)\n",
        "  print(classification_report (test_labels, test_preds, digits=4))\n",
        "  print(cfn_matrix)\n",
        "  return cfn_matrix"
      ],
      "metadata": {
        "id": "l5S0tQvdEEbq"
      },
      "execution_count": 77,
      "outputs": []
    },
    {
      "cell_type": "markdown",
      "source": [
        "## SVM"
      ],
      "metadata": {
        "id": "-V0lX3TGEE-9"
      }
    },
    {
      "cell_type": "code",
      "source": [
        "from sklearn.feature_extraction.text import TfidfVectorizer\n",
        "from sklearn.naive_bayes import MultinomialNB\n",
        "from sklearn.pipeline import Pipeline\n",
        "from sklearn.svm import LinearSVC\n"
      ],
      "metadata": {
        "id": "ZFCRgBqYEG4-"
      },
      "execution_count": 78,
      "outputs": []
    },
    {
      "cell_type": "code",
      "source": [
        "# Create a pipeline\n",
        "SVM_model = Pipeline([\n",
        "  (\"tf-idf\", TfidfVectorizer()),\n",
        "  (\"clf\", LinearSVC())\n",
        "])"
      ],
      "metadata": {
        "id": "SbauzTY_Ec2_"
      },
      "execution_count": 89,
      "outputs": []
    },
    {
      "cell_type": "code",
      "source": [
        "SVM_model.fit(X = train_data_sentences_processed,\n",
        "              y = train_data_lablels_processed, )"
      ],
      "metadata": {
        "colab": {
          "base_uri": "https://localhost:8080/"
        },
        "id": "_7R4RmQWEfgO",
        "outputId": "4526467c-dae5-404c-afc1-c5639352e0a9"
      },
      "execution_count": 90,
      "outputs": [
        {
          "output_type": "execute_result",
          "data": {
            "text/plain": [
              "Pipeline(steps=[('tf-idf', TfidfVectorizer()), ('clf', LinearSVC())])"
            ]
          },
          "metadata": {},
          "execution_count": 90
        }
      ]
    },
    {
      "cell_type": "code",
      "source": [
        "SVM_model.score(X=valid_data_sentences_processed,y=valid_data_lablels_processed)"
      ],
      "metadata": {
        "colab": {
          "base_uri": "https://localhost:8080/"
        },
        "id": "eU7XkcCoFGDp",
        "outputId": "3c8eeebf-df8f-4e8d-ebef-52ea22a515d9"
      },
      "execution_count": 91,
      "outputs": [
        {
          "output_type": "execute_result",
          "data": {
            "text/plain": [
              "0.5138483965014577"
            ]
          },
          "metadata": {},
          "execution_count": 91
        }
      ]
    },
    {
      "cell_type": "code",
      "source": [
        "# Make predictions\n",
        "SVM_preds = SVM_model.predict(test_data_sentences_processed)\n",
        "SVM_preds"
      ],
      "metadata": {
        "colab": {
          "base_uri": "https://localhost:8080/"
        },
        "id": "Gf9mdTe8F58o",
        "outputId": "9915c824-9155-4aef-899d-849519515075"
      },
      "execution_count": 95,
      "outputs": [
        {
          "output_type": "execute_result",
          "data": {
            "text/plain": [
              "array(['Enjoyment', 'Enjoyment', 'Disgust', ..., 'Other', 'Sadness',\n",
              "       'Disgust'], dtype='<U9')"
            ]
          },
          "metadata": {},
          "execution_count": 95
        }
      ]
    },
    {
      "cell_type": "code",
      "source": [
        "SVM_cfn_matrix = confusion_matrix(test_data_lablels_processed, SVM_preds)\n",
        "print(classification_report (test_data_lablels_processed, SVM_preds,digits=4))\n",
        "print(SVM_cfn_matrix)"
      ],
      "metadata": {
        "colab": {
          "base_uri": "https://localhost:8080/"
        },
        "id": "SF1OBzZQFx7C",
        "outputId": "30a0ac9a-4a57-4be1-985b-19cc2336f30d"
      },
      "execution_count": 94,
      "outputs": [
        {
          "output_type": "stream",
          "name": "stdout",
          "text": [
            "              precision    recall  f1-score   support\n",
            "\n",
            "       Anger     0.2836    0.2375    0.2585        80\n",
            "     Disgust     0.4664    0.5265    0.4947       264\n",
            "   Enjoyment     0.5654    0.6269    0.5946       386\n",
            "        Fear     0.6250    0.5435    0.5814        92\n",
            "       Other     0.4348    0.4651    0.4494       258\n",
            "     Sadness     0.5492    0.4569    0.4988       232\n",
            "    Surprise     0.5455    0.3243    0.4068        74\n",
            "\n",
            "    accuracy                         0.5051      1386\n",
            "   macro avg     0.4957    0.4544    0.4692      1386\n",
            "weighted avg     0.5062    0.5051    0.5022      1386\n",
            "\n",
            "[[ 19  30   8   7  10   6   0]\n",
            " [ 23 139  37   7  36  16   6]\n",
            " [  6  47 242   6  54  28   3]\n",
            " [  2  10  12  50  10   7   1]\n",
            " [ 10  41  51   4 120  24   8]\n",
            " [  6  20  60   6  32 106   2]\n",
            " [  1  11  18   0  14   6  24]]\n"
          ]
        }
      ]
    },
    {
      "cell_type": "markdown",
      "source": [
        "# Random Forest"
      ],
      "metadata": {
        "id": "CqY57VMJHQ5m"
      }
    },
    {
      "cell_type": "markdown",
      "source": [
        ""
      ],
      "metadata": {
        "id": "3Lo4I-mmLhBG"
      }
    },
    {
      "cell_type": "code",
      "source": [
        "import numpy as np\n",
        "import pandas as pd\n",
        "from sklearn.preprocessing import LabelEncoder\n",
        "from sklearn.feature_extraction.text import TfidfVectorizer\n",
        "from yellowbrick.model_selection import LearningCurve\n",
        "from sklearn.metrics import classification_report\n",
        "%matplotlib inline"
      ],
      "metadata": {
        "id": "TUkI4cqiNtT2"
      },
      "execution_count": 116,
      "outputs": []
    },
    {
      "cell_type": "code",
      "source": [
        "tfidf = TfidfVectorizer()\n",
        "tfidf.fit(train_data_sentences_processed)"
      ],
      "metadata": {
        "colab": {
          "base_uri": "https://localhost:8080/"
        },
        "id": "vmaYxLNqN75R",
        "outputId": "e456291b-a814-47ac-8a77-c7670bca6131"
      },
      "execution_count": 117,
      "outputs": [
        {
          "output_type": "execute_result",
          "data": {
            "text/plain": [
              "TfidfVectorizer()"
            ]
          },
          "metadata": {},
          "execution_count": 117
        }
      ]
    },
    {
      "cell_type": "code",
      "source": [
        "encoder = LabelEncoder()\n",
        "encoder.fit(train_data_lablels_processed)"
      ],
      "metadata": {
        "colab": {
          "base_uri": "https://localhost:8080/"
        },
        "id": "V-OXr8rPOoq_",
        "outputId": "23fd435f-e792-46b8-97d9-b7e951bde3e7"
      },
      "execution_count": 118,
      "outputs": [
        {
          "output_type": "execute_result",
          "data": {
            "text/plain": [
              "LabelEncoder()"
            ]
          },
          "metadata": {},
          "execution_count": 118
        }
      ]
    },
    {
      "cell_type": "code",
      "source": [
        "X_train = tfidf.transform(train_data_sentences_processed).toarray()\n",
        "y_train = encoder.fit_transform(train_data_lablels_processed)\n",
        "\n",
        "X_valid = tfidf.transform(valid_data_sentences_processed).toarray()\n",
        "y_valid = encoder.fit_transform(valid_data_lablels_processed)\n",
        "\n",
        "X_test  = tfidf.transform(test_data_sentences_processed).toarray()\n",
        "y_test = encoder.transform(test_data_lablels_processed)"
      ],
      "metadata": {
        "id": "PGSTZEFOOt2Y"
      },
      "execution_count": 124,
      "outputs": []
    },
    {
      "cell_type": "code",
      "source": [
        "X_train_valid = np.vstack([X_train, X_valid])\n",
        "y_train_valid = np.concatenate([y_train, y_valid], axis=0)"
      ],
      "metadata": {
        "id": "SvM0-NKbPUE3"
      },
      "execution_count": 125,
      "outputs": []
    },
    {
      "cell_type": "code",
      "source": [
        "from sklearn.ensemble import  RandomForestClassifier\n",
        "RF_model = RandomForestClassifier(n_estimators=256)\n",
        "RF_model.fit(X_train, y_train)\n",
        "ypred = RF_model.predict(X_test)"
      ],
      "metadata": {
        "id": "7K-nJTLQHQEn"
      },
      "execution_count": 246,
      "outputs": []
    },
    {
      "cell_type": "code",
      "source": [
        "ypred"
      ],
      "metadata": {
        "colab": {
          "base_uri": "https://localhost:8080/"
        },
        "id": "6YO5kCFCRXq_",
        "outputId": "b0d64856-e6e9-47fb-c7af-b4bb17f6c005"
      },
      "execution_count": 247,
      "outputs": [
        {
          "output_type": "execute_result",
          "data": {
            "text/plain": [
              "array([2, 2, 4, ..., 4, 2, 2])"
            ]
          },
          "metadata": {},
          "execution_count": 247
        }
      ]
    },
    {
      "cell_type": "code",
      "source": [
        "cfn_matrix = confusion_matrix(ypred, y_test)\n",
        "print(classification_report (ypred, y_test, digits=4))\n",
        "print(cfn_matrix)"
      ],
      "metadata": {
        "colab": {
          "base_uri": "https://localhost:8080/"
        },
        "id": "dpVYgLxqRB7h",
        "outputId": "e7157267-be5a-4730-e963-b222d0d9e1d0"
      },
      "execution_count": 248,
      "outputs": [
        {
          "output_type": "stream",
          "name": "stdout",
          "text": [
            "              precision    recall  f1-score   support\n",
            "\n",
            "           0     0.1250    0.4762    0.1980        21\n",
            "           1     0.5341    0.4448    0.4854       317\n",
            "           2     0.6736    0.4618    0.5479       563\n",
            "           3     0.4348    0.6897    0.5333        58\n",
            "           4     0.3798    0.4188    0.3984       234\n",
            "           5     0.3922    0.5230    0.4483       174\n",
            "           6     0.2162    0.8421    0.3441        19\n",
            "\n",
            "    accuracy                         0.4733      1386\n",
            "   macro avg     0.3937    0.5509    0.4222      1386\n",
            "weighted avg     0.5322    0.4733    0.4872      1386\n",
            "\n",
            "[[ 10   5   1   1   0   4   0]\n",
            " [ 44 141  40  15  45  24   8]\n",
            " [ 14  72 260  23  88  77  29]\n",
            " [  1   5   6  40   2   4   0]\n",
            " [  5  27  50   5  98  32  17]\n",
            " [  6  14  28   8  23  91   4]\n",
            " [  0   0   1   0   2   0  16]]\n"
          ]
        }
      ]
    },
    {
      "cell_type": "markdown",
      "source": [
        "# Word2vec"
      ],
      "metadata": {
        "id": "LzHpb3NcR3U4"
      }
    },
    {
      "cell_type": "code",
      "source": [
        "import gensim\n",
        "\n",
        "# Setting Up Word2Vec\n",
        "w2v_Size = 128\n",
        "w2v_Window = 7\n",
        "w2v_Epoch = 32\n",
        "w2v_Min_Count = 20\n",
        "\n",
        "# Defining Word2Vec Model\n",
        "w2v_model = gensim.models.word2vec.Word2Vec(size=w2v_Size, window=w2v_Window, min_count=w2v_Min_Count, workers=8)"
      ],
      "metadata": {
        "id": "Xm7xXucuR5yf"
      },
      "execution_count": 203,
      "outputs": []
    },
    {
      "cell_type": "code",
      "source": [
        "# Building Vocabulary\n",
        "documents_w2v = [text.split() for text in documents] \n",
        "w2v_model.build_vocab(documents_w2v)\n",
        "print(\"Vocabulary Size: \", len(w2v_model.wv.vocab.keys()) + 1)"
      ],
      "metadata": {
        "colab": {
          "base_uri": "https://localhost:8080/"
        },
        "id": "_rY9kP3hSJOh",
        "outputId": "0625432c-7c54-49b2-f3e6-d6e31dd4b0c3"
      },
      "execution_count": 204,
      "outputs": [
        {
          "output_type": "stream",
          "name": "stdout",
          "text": [
            "Vocabulary Size:  1222\n"
          ]
        }
      ]
    },
    {
      "cell_type": "code",
      "source": [
        "# Training Word2Vec Model\n",
        "w2v_model.train(documents_w2v, total_examples=len(documents_w2v), epochs=w2v_Epoch)"
      ],
      "metadata": {
        "colab": {
          "base_uri": "https://localhost:8080/"
        },
        "id": "Y-Gfs0L1TKgS",
        "outputId": "dfb0ea30-e963-4262-d297-8692bd546388"
      },
      "execution_count": 205,
      "outputs": [
        {
          "output_type": "execute_result",
          "data": {
            "text/plain": [
              "(4518618, 5795264)"
            ]
          },
          "metadata": {},
          "execution_count": 205
        }
      ]
    },
    {
      "cell_type": "code",
      "source": [
        "from keras.layers import Embedding\n",
        "\n",
        "# Setting Up Embedding Layer\n",
        "vocab_size = len(tokenizer.word_index) + 1\n",
        "embedding_matrix = np.zeros((vocab_size, w2v_Size))\n",
        "\n",
        "for word, i in tokenizer.word_index.items():\n",
        "  if word in w2v_model.wv:\n",
        "    embedding_matrix[i] = w2v_model.wv[word]\n",
        "print(embedding_matrix.shape)\n",
        "\n",
        "embedding_layer = Embedding(vocab_size, w2v_Size, weights=[embedding_matrix], input_length=max_length, trainable=False)"
      ],
      "metadata": {
        "colab": {
          "base_uri": "https://localhost:8080/"
        },
        "id": "4-rAUSDYTgzW",
        "outputId": "a4a55af3-80ed-4fde-8cf9-8b0f385d3c1c"
      },
      "execution_count": 206,
      "outputs": [
        {
          "output_type": "stream",
          "name": "stdout",
          "text": [
            "(5725, 128)\n"
          ]
        }
      ]
    },
    {
      "cell_type": "code",
      "source": [
        ""
      ],
      "metadata": {
        "id": "Tx7uX7tPT_N2"
      },
      "execution_count": null,
      "outputs": []
    },
    {
      "cell_type": "markdown",
      "source": [
        "## LSTM"
      ],
      "metadata": {
        "id": "oH2X0rl8T_ct"
      }
    },
    {
      "cell_type": "code",
      "source": [
        "from tensorflow.keras.models import Sequential\n",
        "from tensorflow.keras.layers import Embedding, Dense, LSTM, Dropout, Bidirectional, Input\n",
        "from tensorflow.keras.layers import Conv1D, GlobalAveragePooling1D, GlobalMaxPooling1D,Flatten\n",
        "from tensorflow.keras import layers"
      ],
      "metadata": {
        "id": "VXmUnO3PUBjx"
      },
      "execution_count": 207,
      "outputs": []
    },
    {
      "cell_type": "code",
      "source": [
        "dropout_threshold = 0.2 "
      ],
      "metadata": {
        "id": "7R6cIO8CUBp1"
      },
      "execution_count": 208,
      "outputs": []
    },
    {
      "cell_type": "code",
      "source": [
        "LSTM_W2V = Sequential()\n",
        "LSTM_W2V.add(embedding_layer)\n",
        "LSTM_W2V.add(Dropout(0.5))\n",
        "LSTM_W2V.add(LSTM(units=128, dropout=0.2, recurrent_dropout=0.2))\n",
        "LSTM_W2V.add(Flatten())\n",
        "LSTM_W2V.add(Dense(64, activation='relu'))\n",
        "LSTM_W2V.add(Dense(7, activation='softmax'))"
      ],
      "metadata": {
        "id": "KJIudEHxUcgJ"
      },
      "execution_count": 239,
      "outputs": []
    },
    {
      "cell_type": "code",
      "source": [
        "LSTM_W2V.summary()"
      ],
      "metadata": {
        "colab": {
          "base_uri": "https://localhost:8080/"
        },
        "id": "eGzkmGmqU_mQ",
        "outputId": "06cf9a3e-9c20-4b1e-e19e-51752e185786"
      },
      "execution_count": 240,
      "outputs": [
        {
          "output_type": "stream",
          "name": "stdout",
          "text": [
            "Model: \"sequential_11\"\n",
            "_________________________________________________________________\n",
            " Layer (type)                Output Shape              Param #   \n",
            "=================================================================\n",
            " embedding_2 (Embedding)     (None, 20, 128)           732800    \n",
            "                                                                 \n",
            " dropout_7 (Dropout)         (None, 20, 128)           0         \n",
            "                                                                 \n",
            " lstm_11 (LSTM)              (None, 128)               131584    \n",
            "                                                                 \n",
            " flatten_10 (Flatten)        (None, 128)               0         \n",
            "                                                                 \n",
            " dense_20 (Dense)            (None, 64)                8256      \n",
            "                                                                 \n",
            " dense_21 (Dense)            (None, 7)                 455       \n",
            "                                                                 \n",
            "=================================================================\n",
            "Total params: 873,095\n",
            "Trainable params: 140,295\n",
            "Non-trainable params: 732,800\n",
            "_________________________________________________________________\n"
          ]
        }
      ]
    },
    {
      "cell_type": "code",
      "source": [
        "from keras.utils.vis_utils import plot_model"
      ],
      "metadata": {
        "id": "tUpATnhoVXhO"
      },
      "execution_count": 241,
      "outputs": []
    },
    {
      "cell_type": "code",
      "source": [
        "LSTM_W2V.compile(loss='categorical_crossentropy', optimizer='Adam', metrics=['acc'])"
      ],
      "metadata": {
        "id": "d5TOchRYVEYn"
      },
      "execution_count": 242,
      "outputs": []
    },
    {
      "cell_type": "code",
      "source": [
        "plot_model(LSTM_W2V,show_shapes=True, show_layer_names=True)"
      ],
      "metadata": {
        "colab": {
          "base_uri": "https://localhost:8080/",
          "height": 754
        },
        "id": "Jomp7_TWVmD2",
        "outputId": "4da3ab55-1fbd-4330-86ff-f68160843db5"
      },
      "execution_count": 243,
      "outputs": [
        {
          "output_type": "execute_result",
          "data": {
            "image/png": "[encoded data removed]",
            "text/plain": [
              "<IPython.core.display.Image object>"
            ]
          },
          "metadata": {},
          "execution_count": 243
        }
      ]
    },
    {
      "cell_type": "code",
      "source": [
        "LSTM_W2V.fit(padded_train_data_sequences, train_data_lablels_tf,batch_size=32 ,\n",
        "           epochs=20, validation_data=(padded_valid_data_sequences, valid_data_lablels_tf))"
      ],
      "metadata": {
        "colab": {
          "base_uri": "https://localhost:8080/"
        },
        "id": "DBhuRzglYnpP",
        "outputId": "83fc55ff-6c1f-4f81-b76d-631d878331e2"
      },
      "execution_count": 244,
      "outputs": [
        {
          "output_type": "stream",
          "name": "stdout",
          "text": [
            "Epoch 1/20\n",
            "347/347 [==============================] - 22s 58ms/step - loss: 1.6827 - acc: 0.3307 - val_loss: 1.5365 - val_acc: 0.3943\n",
            "Epoch 2/20\n",
            "347/347 [==============================] - 19s 55ms/step - loss: 1.5660 - acc: 0.3786 - val_loss: 1.5084 - val_acc: 0.3892\n",
            "Epoch 3/20\n",
            "347/347 [==============================] - 19s 55ms/step - loss: 1.5164 - acc: 0.4001 - val_loss: 1.5006 - val_acc: 0.4220\n",
            "Epoch 4/20\n",
            "347/347 [==============================] - 19s 55ms/step - loss: 1.4828 - acc: 0.4219 - val_loss: 1.4434 - val_acc: 0.4169\n",
            "Epoch 5/20\n",
            "347/347 [==============================] - 19s 56ms/step - loss: 1.4548 - acc: 0.4323 - val_loss: 1.4170 - val_acc: 0.4497\n",
            "Epoch 6/20\n",
            "347/347 [==============================] - 20s 57ms/step - loss: 1.4241 - acc: 0.4455 - val_loss: 1.4261 - val_acc: 0.4563\n",
            "Epoch 7/20\n",
            "347/347 [==============================] - 20s 57ms/step - loss: 1.3981 - acc: 0.4582 - val_loss: 1.4102 - val_acc: 0.4563\n",
            "Epoch 8/20\n",
            "347/347 [==============================] - 20s 57ms/step - loss: 1.3676 - acc: 0.4713 - val_loss: 1.4165 - val_acc: 0.4402\n",
            "Epoch 9/20\n",
            "347/347 [==============================] - 20s 58ms/step - loss: 1.3481 - acc: 0.4848 - val_loss: 1.4234 - val_acc: 0.4570\n",
            "Epoch 10/20\n",
            "347/347 [==============================] - 20s 58ms/step - loss: 1.3311 - acc: 0.4912 - val_loss: 1.4088 - val_acc: 0.4621\n",
            "Epoch 11/20\n",
            "347/347 [==============================] - 20s 58ms/step - loss: 1.3038 - acc: 0.4967 - val_loss: 1.4147 - val_acc: 0.4599\n",
            "Epoch 12/20\n",
            "347/347 [==============================] - 20s 58ms/step - loss: 1.2993 - acc: 0.5061 - val_loss: 1.3784 - val_acc: 0.4701\n",
            "Epoch 13/20\n",
            "347/347 [==============================] - 19s 56ms/step - loss: 1.2805 - acc: 0.5084 - val_loss: 1.3856 - val_acc: 0.4862\n",
            "Epoch 14/20\n",
            "347/347 [==============================] - 20s 58ms/step - loss: 1.2597 - acc: 0.5206 - val_loss: 1.4186 - val_acc: 0.4519\n",
            "Epoch 15/20\n",
            "347/347 [==============================] - 20s 58ms/step - loss: 1.2542 - acc: 0.5192 - val_loss: 1.4097 - val_acc: 0.4636\n",
            "Epoch 16/20\n",
            "347/347 [==============================] - 20s 58ms/step - loss: 1.2392 - acc: 0.5240 - val_loss: 1.3995 - val_acc: 0.4781\n",
            "Epoch 17/20\n",
            "347/347 [==============================] - 20s 59ms/step - loss: 1.2341 - acc: 0.5295 - val_loss: 1.4265 - val_acc: 0.4723\n",
            "Epoch 18/20\n",
            "347/347 [==============================] - 21s 59ms/step - loss: 1.2151 - acc: 0.5331 - val_loss: 1.3894 - val_acc: 0.4796\n",
            "Epoch 19/20\n",
            "347/347 [==============================] - 20s 59ms/step - loss: 1.2014 - acc: 0.5451 - val_loss: 1.4289 - val_acc: 0.4672\n",
            "Epoch 20/20\n",
            "347/347 [==============================] - 20s 59ms/step - loss: 1.1932 - acc: 0.5444 - val_loss: 1.4325 - val_acc: 0.4723\n"
          ]
        },
        {
          "output_type": "execute_result",
          "data": {
            "text/plain": [
              "<keras.callbacks.History at 0x7fd181631dd0>"
            ]
          },
          "metadata": {},
          "execution_count": 244
        }
      ]
    },
    {
      "cell_type": "code",
      "source": [
        "LSTM_W2V_cfn=print_cfn(LSTM_W2V, padded_test_data_sequences, test_data_lablels_tf)"
      ],
      "metadata": {
        "colab": {
          "base_uri": "https://localhost:8080/"
        },
        "id": "XEcjhrYraMlD",
        "outputId": "ce910786-9de3-4760-b14a-6594c8bcea9f"
      },
      "execution_count": 245,
      "outputs": [
        {
          "output_type": "stream",
          "name": "stdout",
          "text": [
            "              precision    recall  f1-score   support\n",
            "\n",
            "           0     0.5844    0.6192    0.6013       386\n",
            "           1     0.5208    0.5948    0.5553       232\n",
            "           2     0.5647    0.5217    0.5424        92\n",
            "           3     0.3544    0.3500    0.3522        80\n",
            "           4     0.5109    0.4432    0.4746       264\n",
            "           5     0.6000    0.3243    0.4211        74\n",
            "           6     0.4301    0.4651    0.4469       258\n",
            "\n",
            "    accuracy                         0.5152      1386\n",
            "   macro avg     0.5093    0.4741    0.4848      1386\n",
            "weighted avg     0.5173    0.5152    0.5128      1386\n",
            "\n",
            "[[239  39  10   5  30   2  61]\n",
            " [ 40 138   7   8  18   2  19]\n",
            " [  9  12  48   5  12   0   6]\n",
            " [  7   7   6  28  15   0  17]\n",
            " [ 45  24   9  25 117   4  40]\n",
            " [ 18   6   1   1   8  24  16]\n",
            " [ 51  39   4   7  29   8 120]]\n"
          ]
        }
      ]
    },
    {
      "cell_type": "markdown",
      "source": [
        "## CNN"
      ],
      "metadata": {
        "id": "YZXIK--uitbQ"
      }
    },
    {
      "cell_type": "code",
      "source": [
        "import numpy as np\n",
        "import pandas as pd\n",
        "import tensorflow as tf\n",
        "from tensorflow.keras.layers import Dense, Input, LSTM, Bidirectional, Conv1D, LayerNormalization,MaxPooling1D,GRU\n",
        "from tensorflow.keras.layers import Dropout, Embedding\n",
        "from tensorflow.keras.preprocessing import text, sequence\n",
        "from tensorflow.keras.layers import GlobalMaxPooling1D, GlobalAveragePooling1D, concatenate, SpatialDropout1D\n",
        "from tensorflow.keras.models import Model\n",
        "from tensorflow.keras import backend as K\n",
        "from tensorflow.keras.models import model_from_json\n",
        "from tensorflow.keras.models import load_model"
      ],
      "metadata": {
        "id": "07rRRRYIiure"
      },
      "execution_count": 249,
      "outputs": []
    },
    {
      "cell_type": "code",
      "source": [
        "initializer = tf.keras.initializers.GlorotNormal()\n",
        "\n",
        "input_layer = Input(shape=(max_length))\n",
        "feature = embedding_layer(input_layer)\n",
        "\n",
        "cnn_feature1  = Conv1D(128, kernel_size=5, padding='same', activation = 'relu')(feature)\n",
        "cnn_feature1 = MaxPooling1D()(cnn_feature1)\n",
        "cnn_feature1 = Dropout(dropout_threshold)(cnn_feature1)\n",
        "cnn_feature2  = Conv1D(128, kernel_size=4, padding='same', activation = 'relu')(feature)\n",
        "cnn_feature2 = MaxPooling1D()(cnn_feature2)\n",
        "cnn_feature2 = Dropout(dropout_threshold)(cnn_feature2)\n",
        "cnn_feature3  = Conv1D(128, kernel_size=3, padding='same', activation = 'relu')(feature)\n",
        "cnn_feature3 = MaxPooling1D()(cnn_feature3)\n",
        "cnn_feature3 = Dropout(dropout_threshold)(cnn_feature3)\n",
        "\n",
        "combine_feature = tf.keras.layers.Concatenate()([cnn_feature1, cnn_feature2, cnn_feature3])\n",
        "combine_feature = GlobalMaxPooling1D()(combine_feature)\n",
        "combine_feature = LayerNormalization()(combine_feature)\n",
        "\n",
        "classifier = Dense(96, activation='relu')(combine_feature)\n",
        "classifier = Dropout(dropout_threshold)(classifier)\n",
        "classifier = Dense(48, activation='relu')(classifier)\n",
        "classifier = Dropout(dropout_threshold)(classifier)\n",
        "classifier = Dense(32, activation='relu')(classifier)\n",
        "classifier = Dropout(dropout_threshold)(classifier)\n",
        "classifier = Dense(7, activation='softmax')(classifier)\n",
        "\n",
        "CNN_model = Model(inputs= input_layer, outputs= classifier)"
      ],
      "metadata": {
        "id": "CqKTR048kxtZ"
      },
      "execution_count": 265,
      "outputs": []
    },
    {
      "cell_type": "code",
      "source": [
        "plot_model(CNN_model,show_shapes=True, show_layer_names=True)"
      ],
      "metadata": {
        "colab": {
          "base_uri": "https://localhost:8080/",
          "height": 1000
        },
        "id": "3V2YFCmdlzkA",
        "outputId": "b5fecdde-50b4-4c44-b86b-88992ad08dbc"
      },
      "execution_count": 266,
      "outputs": [
        {
          "output_type": "execute_result",
          "data": {
            "image/png": "[encoded data removed]",
            "text/plain": [
              "<IPython.core.display.Image object>"
            ]
          },
          "metadata": {},
          "execution_count": 266
        }
      ]
    },
    {
      "cell_type": "code",
      "source": [
        "CNN_model.compile(loss='categorical_crossentropy', optimizer='Adam', metrics=['acc'])\n",
        "CNN_model.summary()"
      ],
      "metadata": {
        "colab": {
          "base_uri": "https://localhost:8080/"
        },
        "id": "MfbBcSFZmcUC",
        "outputId": "6689ee1e-f79d-4ebb-aa0e-5c3e150a1023"
      },
      "execution_count": 267,
      "outputs": [
        {
          "output_type": "stream",
          "name": "stdout",
          "text": [
            "Model: \"model_3\"\n",
            "__________________________________________________________________________________________________\n",
            " Layer (type)                   Output Shape         Param #     Connected to                     \n",
            "==================================================================================================\n",
            " input_7 (InputLayer)           [(None, 20)]         0           []                               \n",
            "                                                                                                  \n",
            " embedding_2 (Embedding)        (None, 20, 128)      732800      ['input_7[0][0]']                \n",
            "                                                                                                  \n",
            " conv1d_13 (Conv1D)             (None, 20, 128)      82048       ['embedding_2[11][0]']           \n",
            "                                                                                                  \n",
            " conv1d_14 (Conv1D)             (None, 20, 128)      65664       ['embedding_2[11][0]']           \n",
            "                                                                                                  \n",
            " conv1d_15 (Conv1D)             (None, 20, 128)      49280       ['embedding_2[11][0]']           \n",
            "                                                                                                  \n",
            " max_pooling1d_13 (MaxPooling1D  (None, 10, 128)     0           ['conv1d_13[0][0]']              \n",
            " )                                                                                                \n",
            "                                                                                                  \n",
            " max_pooling1d_14 (MaxPooling1D  (None, 10, 128)     0           ['conv1d_14[0][0]']              \n",
            " )                                                                                                \n",
            "                                                                                                  \n",
            " max_pooling1d_15 (MaxPooling1D  (None, 10, 128)     0           ['conv1d_15[0][0]']              \n",
            " )                                                                                                \n",
            "                                                                                                  \n",
            " dropout_29 (Dropout)           (None, 10, 128)      0           ['max_pooling1d_13[0][0]']       \n",
            "                                                                                                  \n",
            " dropout_30 (Dropout)           (None, 10, 128)      0           ['max_pooling1d_14[0][0]']       \n",
            "                                                                                                  \n",
            " dropout_31 (Dropout)           (None, 10, 128)      0           ['max_pooling1d_15[0][0]']       \n",
            "                                                                                                  \n",
            " concatenate_1 (Concatenate)    (None, 10, 384)      0           ['dropout_29[0][0]',             \n",
            "                                                                  'dropout_30[0][0]',             \n",
            "                                                                  'dropout_31[0][0]']             \n",
            "                                                                                                  \n",
            " global_max_pooling1d_3 (Global  (None, 384)         0           ['concatenate_1[0][0]']          \n",
            " MaxPooling1D)                                                                                    \n",
            "                                                                                                  \n",
            " layer_normalization_5 (LayerNo  (None, 384)         768         ['global_max_pooling1d_3[0][0]'] \n",
            " rmalization)                                                                                     \n",
            "                                                                                                  \n",
            " dense_34 (Dense)               (None, 96)           36960       ['layer_normalization_5[0][0]']  \n",
            "                                                                                                  \n",
            " dropout_32 (Dropout)           (None, 96)           0           ['dense_34[0][0]']               \n",
            "                                                                                                  \n",
            " dense_35 (Dense)               (None, 48)           4656        ['dropout_32[0][0]']             \n",
            "                                                                                                  \n",
            " dropout_33 (Dropout)           (None, 48)           0           ['dense_35[0][0]']               \n",
            "                                                                                                  \n",
            " dense_36 (Dense)               (None, 32)           1568        ['dropout_33[0][0]']             \n",
            "                                                                                                  \n",
            " dropout_34 (Dropout)           (None, 32)           0           ['dense_36[0][0]']               \n",
            "                                                                                                  \n",
            " dense_37 (Dense)               (None, 7)            231         ['dropout_34[0][0]']             \n",
            "                                                                                                  \n",
            "==================================================================================================\n",
            "Total params: 973,975\n",
            "Trainable params: 241,175\n",
            "Non-trainable params: 732,800\n",
            "__________________________________________________________________________________________________\n"
          ]
        }
      ]
    },
    {
      "cell_type": "code",
      "source": [
        "CNN_model.fit(padded_train_data_sequences, train_data_lablels_tf,batch_size=32 ,\n",
        "           epochs=10, validation_data=(padded_valid_data_sequences, valid_data_lablels_tf))"
      ],
      "metadata": {
        "colab": {
          "base_uri": "https://localhost:8080/"
        },
        "id": "q6Os-k4ummA7",
        "outputId": "a11c11e1-f176-4900-f249-2e04bcf6af88"
      },
      "execution_count": 268,
      "outputs": [
        {
          "output_type": "stream",
          "name": "stdout",
          "text": [
            "Epoch 1/10\n",
            "347/347 [==============================] - 9s 24ms/step - loss: 1.7636 - acc: 0.2980 - val_loss: 1.6207 - val_acc: 0.3878\n",
            "Epoch 2/10\n",
            "347/347 [==============================] - 8s 23ms/step - loss: 1.6004 - acc: 0.3627 - val_loss: 1.5023 - val_acc: 0.4191\n",
            "Epoch 3/10\n",
            "347/347 [==============================] - 8s 23ms/step - loss: 1.4927 - acc: 0.4157 - val_loss: 1.5107 - val_acc: 0.4111\n",
            "Epoch 4/10\n",
            "347/347 [==============================] - 8s 22ms/step - loss: 1.3854 - acc: 0.4603 - val_loss: 1.5006 - val_acc: 0.4023\n",
            "Epoch 5/10\n",
            "347/347 [==============================] - 8s 23ms/step - loss: 1.2936 - acc: 0.5013 - val_loss: 1.5075 - val_acc: 0.4191\n",
            "Epoch 6/10\n",
            "347/347 [==============================] - 8s 22ms/step - loss: 1.1950 - acc: 0.5389 - val_loss: 1.5470 - val_acc: 0.4286\n",
            "Epoch 7/10\n",
            "347/347 [==============================] - 8s 22ms/step - loss: 1.1154 - acc: 0.5818 - val_loss: 1.5552 - val_acc: 0.4402\n",
            "Epoch 8/10\n",
            "347/347 [==============================] - 8s 23ms/step - loss: 1.0187 - acc: 0.6240 - val_loss: 1.7234 - val_acc: 0.4278\n",
            "Epoch 9/10\n",
            "347/347 [==============================] - 8s 22ms/step - loss: 0.9287 - acc: 0.6565 - val_loss: 1.7541 - val_acc: 0.4227\n",
            "Epoch 10/10\n",
            "347/347 [==============================] - 8s 22ms/step - loss: 0.8482 - acc: 0.6911 - val_loss: 1.8336 - val_acc: 0.4227\n"
          ]
        },
        {
          "output_type": "execute_result",
          "data": {
            "text/plain": [
              "<keras.callbacks.History at 0x7fd176488d50>"
            ]
          },
          "metadata": {},
          "execution_count": 268
        }
      ]
    },
    {
      "cell_type": "code",
      "source": [
        "CNN_cfn=print_cfn(CNN_model, padded_test_data_sequences, test_data_lablels_tf)"
      ],
      "metadata": {
        "colab": {
          "base_uri": "https://localhost:8080/"
        },
        "id": "d6JZyX3nnhxf",
        "outputId": "cd9c581b-b65c-4ccf-b458-71653bdfd3c8"
      },
      "execution_count": 269,
      "outputs": [
        {
          "output_type": "stream",
          "name": "stdout",
          "text": [
            "              precision    recall  f1-score   support\n",
            "\n",
            "           0     0.5187    0.6114    0.5612       386\n",
            "           1     0.4751    0.3707    0.4165       232\n",
            "           2     0.5692    0.4022    0.4713        92\n",
            "           3     0.3000    0.2625    0.2800        80\n",
            "           4     0.4578    0.3902    0.4213       264\n",
            "           5     0.4651    0.2703    0.3419        74\n",
            "           6     0.3401    0.4574    0.3901       258\n",
            "\n",
            "    accuracy                         0.4481      1386\n",
            "   macro avg     0.4466    0.3949    0.4118      1386\n",
            "weighted avg     0.4544    0.4481    0.4446      1386\n",
            "\n",
            "[[236  31   8   6  32   3  70]\n",
            " [ 46  86   3   5  25   5  62]\n",
            " [ 17  13  37   7   6   0  12]\n",
            " [  8   7   3  21  25   0  16]\n",
            " [ 49  20   8  26 103   7  51]\n",
            " [ 27   3   1   1   4  20  18]\n",
            " [ 72  21   5   4  30   8 118]]\n"
          ]
        }
      ]
    },
    {
      "cell_type": "markdown",
      "source": [
        "# Visualization"
      ],
      "metadata": {
        "id": "TzmyyTJutw64"
      }
    },
    {
      "cell_type": "code",
      "source": [
        "!wget https://raw.githubusercontent.com/mrdbourke/tensorflow-deep-learning/main/extras/helper_functions.py"
      ],
      "metadata": {
        "id": "SG3DAL6st1xP"
      },
      "execution_count": null,
      "outputs": []
    },
    {
      "cell_type": "code",
      "source": [
        "# Import calculate_results helper function\n",
        "from helper_functions import calculate_results"
      ],
      "metadata": {
        "id": "wb7qJocjt6mz"
      },
      "execution_count": 271,
      "outputs": []
    },
    {
      "cell_type": "code",
      "source": [
        "svm_pred = SVM_model.predict(valid_data_sentences_processed)"
      ],
      "metadata": {
        "id": "sqFVAi8zuBeg"
      },
      "execution_count": 272,
      "outputs": []
    },
    {
      "cell_type": "code",
      "source": [
        "svm_result = calculate_results(y_true=valid_data_lablels_processed, y_pred=svm_pred)\n",
        "svm_result"
      ],
      "metadata": {
        "colab": {
          "base_uri": "https://localhost:8080/"
        },
        "id": "gbQnGi9FuIvo",
        "outputId": "5f2225ad-625c-4914-b368-2e02cfb9f557"
      },
      "execution_count": 273,
      "outputs": [
        {
          "output_type": "execute_result",
          "data": {
            "text/plain": [
              "{'accuracy': 51.38483965014578,\n",
              " 'f1': 0.5098450324611996,\n",
              " 'precision': 0.511225745073975,\n",
              " 'recall': 0.5138483965014577}"
            ]
          },
          "metadata": {},
          "execution_count": 273
        }
      ]
    },
    {
      "cell_type": "code",
      "source": [
        "RF_pred = RF_model.predict(X_valid)\n",
        "RF_result = calculate_results(y_pred=RF_pred,y_true=y_valid)\n",
        "RF_result"
      ],
      "metadata": {
        "colab": {
          "base_uri": "https://localhost:8080/"
        },
        "id": "4gmc_6YfuUG4",
        "outputId": "35a6493a-3946-4409-d6d4-1915ec661be1"
      },
      "execution_count": 278,
      "outputs": [
        {
          "output_type": "execute_result",
          "data": {
            "text/plain": [
              "{'accuracy': 47.08454810495627,\n",
              " 'f1': 0.4445313219345366,\n",
              " 'precision': 0.45922994479895396,\n",
              " 'recall': 0.4708454810495627}"
            ]
          },
          "metadata": {},
          "execution_count": 278
        }
      ]
    },
    {
      "cell_type": "code",
      "source": [
        "lstm_pred = LSTM_W2V.predict(padded_valid_data_sequences)\n",
        "lstm_pred = tf.argmax(lstm_pred, axis =1)"
      ],
      "metadata": {
        "id": "m8hNnFMMwOYY"
      },
      "execution_count": 284,
      "outputs": []
    },
    {
      "cell_type": "code",
      "source": [
        "valid_data_lablels_idx = [label_dict[i] for i in valid_data_lablels_processed]"
      ],
      "metadata": {
        "id": "Y6GcoHSNwPNf"
      },
      "execution_count": 289,
      "outputs": []
    },
    {
      "cell_type": "code",
      "source": [
        "lstm_pred = LSTM_W2V.predict(padded_valid_data_sequences)\n",
        "lstm_pred = tf.argmax(lstm_pred, axis =1)\n",
        "lstm_result = calculate_results(y_pred=lstm_pred,y_true=valid_data_lablels_idx)\n",
        "lstm_result"
      ],
      "metadata": {
        "colab": {
          "base_uri": "https://localhost:8080/"
        },
        "id": "EIQNHfMgu9Hd",
        "outputId": "1c4f9e07-06e6-4c31-fd9b-ff4370a559d9"
      },
      "execution_count": 290,
      "outputs": [
        {
          "output_type": "execute_result",
          "data": {
            "text/plain": [
              "{'accuracy': 47.23032069970846,\n",
              " 'f1': 0.4720928985117235,\n",
              " 'precision': 0.4788380497783145,\n",
              " 'recall': 0.47230320699708456}"
            ]
          },
          "metadata": {},
          "execution_count": 290
        }
      ]
    },
    {
      "cell_type": "code",
      "source": [
        "CNN_pred = CNN_model.predict(padded_valid_data_sequences)\n",
        "CNN_pred = tf.argmax(CNN_pred, axis =1)\n",
        "CNN_result = calculate_results(y_pred=CNN_pred,y_true=valid_data_lablels_idx)\n",
        "CNN_result"
      ],
      "metadata": {
        "colab": {
          "base_uri": "https://localhost:8080/"
        },
        "id": "WCvCYs3Twz0x",
        "outputId": "e92e158a-0d45-49dc-df10-273c348c301f"
      },
      "execution_count": 291,
      "outputs": [
        {
          "output_type": "execute_result",
          "data": {
            "text/plain": [
              "{'accuracy': 42.27405247813411,\n",
              " 'f1': 0.42044060926605564,\n",
              " 'precision': 0.4251718336300634,\n",
              " 'recall': 0.4227405247813411}"
            ]
          },
          "metadata": {},
          "execution_count": 291
        }
      ]
    },
    {
      "cell_type": "code",
      "source": [
        "# Combine model results into a DataFrame\n",
        "all_model_results = pd.DataFrame({\"SVM\": svm_result,\n",
        "                                  \"Random Forest\": RF_result,\n",
        "                                  \"LSTM\": lstm_result,\n",
        "                                  \"CNN\": CNN_result})\n",
        "all_model_results = all_model_results.transpose()\n",
        "all_model_results"
      ],
      "metadata": {
        "colab": {
          "base_uri": "https://localhost:8080/",
          "height": 175
        },
        "id": "08wRFlMpw-vg",
        "outputId": "375734bf-a484-4274-89ef-f9fef8c62afa"
      },
      "execution_count": 293,
      "outputs": [
        {
          "output_type": "execute_result",
          "data": {
            "text/html": [
              "\n",
              "  <div id=\"df-36915122-26fa-4a93-a832-8fb25983a7fb\">\n",
              "    <div class=\"colab-df-container\">\n",
              "      <div>\n",
              "<style scoped>\n",
              "    .dataframe tbody tr th:only-of-type {\n",
              "        vertical-align: middle;\n",
              "    }\n",
              "\n",
              "    .dataframe tbody tr th {\n",
              "        vertical-align: top;\n",
              "    }\n",
              "\n",
              "    .dataframe thead th {\n",
              "        text-align: right;\n",
              "    }\n",
              "</style>\n",
              "<table border=\"1\" class=\"dataframe\">\n",
              "  <thead>\n",
              "    <tr style=\"text-align: right;\">\n",
              "      <th></th>\n",
              "      <th>accuracy</th>\n",
              "      <th>precision</th>\n",
              "      <th>recall</th>\n",
              "      <th>f1</th>\n",
              "    </tr>\n",
              "  </thead>\n",
              "  <tbody>\n",
              "    <tr>\n",
              "      <th>SVM</th>\n",
              "      <td>51.384840</td>\n",
              "      <td>0.511226</td>\n",
              "      <td>0.513848</td>\n",
              "      <td>0.509845</td>\n",
              "    </tr>\n",
              "    <tr>\n",
              "      <th>Random Forest</th>\n",
              "      <td>47.084548</td>\n",
              "      <td>0.459230</td>\n",
              "      <td>0.470845</td>\n",
              "      <td>0.444531</td>\n",
              "    </tr>\n",
              "    <tr>\n",
              "      <th>LSTM</th>\n",
              "      <td>47.230321</td>\n",
              "      <td>0.478838</td>\n",
              "      <td>0.472303</td>\n",
              "      <td>0.472093</td>\n",
              "    </tr>\n",
              "    <tr>\n",
              "      <th>CNN</th>\n",
              "      <td>42.274052</td>\n",
              "      <td>0.425172</td>\n",
              "      <td>0.422741</td>\n",
              "      <td>0.420441</td>\n",
              "    </tr>\n",
              "  </tbody>\n",
              "</table>\n",
              "</div>\n",
              "      <button class=\"colab-df-convert\" onclick=\"convertToInteractive('df-36915122-26fa-4a93-a832-8fb25983a7fb')\"\n",
              "              title=\"Convert this dataframe to an interactive table.\"\n",
              "              style=\"display:none;\">\n",
              "        \n",
              "  <svg xmlns=\"http://www.w3.org/2000/svg\" height=\"24px\"viewBox=\"0 0 24 24\"\n",
              "       width=\"24px\">\n",
              "    <path d=\"M0 0h24v24H0V0z\" fill=\"none\"/>\n",
              "    <path d=\"M18.56 5.44l.94 2.06.94-2.06 2.06-.94-2.06-.94-.94-2.06-.94 2.06-2.06.94zm-11 1L8.5 8.5l.94-2.06 2.06-.94-2.06-.94L8.5 2.5l-.94 2.06-2.06.94zm10 10l.94 2.06.94-2.06 2.06-.94-2.06-.94-.94-2.06-.94 2.06-2.06.94z\"/><path d=\"M17.41 7.96l-1.37-1.37c-.4-.4-.92-.59-1.43-.59-.52 0-1.04.2-1.43.59L10.3 9.45l-7.72 7.72c-.78.78-.78 2.05 0 2.83L4 21.41c.39.39.9.59 1.41.59.51 0 1.02-.2 1.41-.59l7.78-7.78 2.81-2.81c.8-.78.8-2.07 0-2.86zM5.41 20L4 18.59l7.72-7.72 1.47 1.35L5.41 20z\"/>\n",
              "  </svg>\n",
              "      </button>\n",
              "      \n",
              "  <style>\n",
              "    .colab-df-container {\n",
              "      display:flex;\n",
              "      flex-wrap:wrap;\n",
              "      gap: 12px;\n",
              "    }\n",
              "\n",
              "    .colab-df-convert {\n",
              "      background-color: #E8F0FE;\n",
              "      border: none;\n",
              "      border-radius: 50%;\n",
              "      cursor: pointer;\n",
              "      display: none;\n",
              "      fill: #1967D2;\n",
              "      height: 32px;\n",
              "      padding: 0 0 0 0;\n",
              "      width: 32px;\n",
              "    }\n",
              "\n",
              "    .colab-df-convert:hover {\n",
              "      background-color: #E2EBFA;\n",
              "      box-shadow: 0px 1px 2px rgba(60, 64, 67, 0.3), 0px 1px 3px 1px rgba(60, 64, 67, 0.15);\n",
              "      fill: #174EA6;\n",
              "    }\n",
              "\n",
              "    [theme=dark] .colab-df-convert {\n",
              "      background-color: #3B4455;\n",
              "      fill: #D2E3FC;\n",
              "    }\n",
              "\n",
              "    [theme=dark] .colab-df-convert:hover {\n",
              "      background-color: #434B5C;\n",
              "      box-shadow: 0px 1px 3px 1px rgba(0, 0, 0, 0.15);\n",
              "      filter: drop-shadow(0px 1px 2px rgba(0, 0, 0, 0.3));\n",
              "      fill: #FFFFFF;\n",
              "    }\n",
              "  </style>\n",
              "\n",
              "      <script>\n",
              "        const buttonEl =\n",
              "          document.querySelector('#df-36915122-26fa-4a93-a832-8fb25983a7fb button.colab-df-convert');\n",
              "        buttonEl.style.display =\n",
              "          google.colab.kernel.accessAllowed ? 'block' : 'none';\n",
              "\n",
              "        async function convertToInteractive(key) {\n",
              "          const element = document.querySelector('#df-36915122-26fa-4a93-a832-8fb25983a7fb');\n",
              "          const dataTable =\n",
              "            await google.colab.kernel.invokeFunction('convertToInteractive',\n",
              "                                                     [key], {});\n",
              "          if (!dataTable) return;\n",
              "\n",
              "          const docLinkHtml = 'Like what you see? Visit the ' +\n",
              "            '<a target=\"_blank\" href=https://colab.research.google.com/notebooks/data_table.ipynb>data table notebook</a>'\n",
              "            + ' to learn more about interactive tables.';\n",
              "          element.innerHTML = '';\n",
              "          dataTable['output_type'] = 'display_data';\n",
              "          await google.colab.output.renderOutput(dataTable, element);\n",
              "          const docLink = document.createElement('div');\n",
              "          docLink.innerHTML = docLinkHtml;\n",
              "          element.appendChild(docLink);\n",
              "        }\n",
              "      </script>\n",
              "    </div>\n",
              "  </div>\n",
              "  "
            ],
            "text/plain": [
              "                accuracy  precision    recall        f1\n",
              "SVM            51.384840   0.511226  0.513848  0.509845\n",
              "Random Forest  47.084548   0.459230  0.470845  0.444531\n",
              "LSTM           47.230321   0.478838  0.472303  0.472093\n",
              "CNN            42.274052   0.425172  0.422741  0.420441"
            ]
          },
          "metadata": {},
          "execution_count": 293
        }
      ]
    },
    {
      "cell_type": "code",
      "source": [
        "# Reduce the accuracy to same scale as other metrics\n",
        "all_model_results[\"accuracy\"] = all_model_results[\"accuracy\"]/100\n",
        "# Plot and compare all of the model results\n",
        "all_model_results.plot(kind=\"bar\", figsize=(10, 7)).legend(bbox_to_anchor=(1.0, 1.0));"
      ],
      "metadata": {
        "colab": {
          "base_uri": "https://localhost:8080/",
          "height": 487
        },
        "id": "yB1jTXhgxHKw",
        "outputId": "3ae1cc0c-91e4-4d4d-8d27-d64a2031a959"
      },
      "execution_count": 294,
      "outputs": [
        {
          "output_type": "display_data",
          "data": {
            "image/png": "[encoded data removed]",
            "text/plain": [
              "<Figure size 720x504 with 1 Axes>"
            ]
          },
          "metadata": {
            "needs_background": "light"
          }
        }
      ]
    },
    {
      "cell_type": "code",
      "source": [
        "# Sort model results by f1-score\n",
        "all_model_results.sort_values(\"f1\", ascending=False)[\"f1\"].plot(kind=\"bar\", figsize=(10, 7));"
      ],
      "metadata": {
        "colab": {
          "base_uri": "https://localhost:8080/",
          "height": 487
        },
        "id": "yhPeJc9YxLoi",
        "outputId": "726377bb-d011-4736-9e7f-c9fdcbef4b22"
      },
      "execution_count": 295,
      "outputs": [
        {
          "output_type": "display_data",
          "data": {
            "image/png": "[encoded data removed]",
            "text/plain": [
              "<Figure size 720x504 with 1 Axes>"
            ]
          },
          "metadata": {
            "needs_background": "light"
          }
        }
      ]
    }
  ]
}